{
 "cells": [
  {
   "cell_type": "code",
   "execution_count": 1,
   "metadata": {},
   "outputs": [],
   "source": [
    "import pandas as pd"
   ]
  },
  {
   "cell_type": "code",
   "execution_count": 6,
   "metadata": {},
   "outputs": [],
   "source": [
    "us_history = pd.read_excel(\"us_history.xlsx\",\"Basic\")\n",
    "christianity = pd.read_excel(\"christianity.xlsx\",\"Basic\")"
   ]
  },
  {
   "cell_type": "code",
   "execution_count": 5,
   "metadata": {},
   "outputs": [
    {
     "data": {
      "text/html": [
       "<div>\n",
       "<style scoped>\n",
       "    .dataframe tbody tr th:only-of-type {\n",
       "        vertical-align: middle;\n",
       "    }\n",
       "\n",
       "    .dataframe tbody tr th {\n",
       "        vertical-align: top;\n",
       "    }\n",
       "\n",
       "    .dataframe thead th {\n",
       "        text-align: right;\n",
       "    }\n",
       "</style>\n",
       "<table border=\"1\" class=\"dataframe\">\n",
       "  <thead>\n",
       "    <tr style=\"text-align: right;\">\n",
       "      <th></th>\n",
       "      <th>card_id</th>\n",
       "      <th>note_id</th>\n",
       "      <th>deck_name</th>\n",
       "      <th>template_order</th>\n",
       "    </tr>\n",
       "  </thead>\n",
       "  <tbody>\n",
       "    <tr>\n",
       "      <th>0</th>\n",
       "      <td>1263168851796</td>\n",
       "      <td>How did Lincoln handle Fort Sumter?</td>\n",
       "      <td>He didn't send troops, he made the South decid...</td>\n",
       "      <td>14 Chapter</td>\n",
       "    </tr>\n",
       "    <tr>\n",
       "      <th>1</th>\n",
       "      <td>1263168959703</td>\n",
       "      <td>Who was the first state to secede and when?&amp;nb...</td>\n",
       "      <td>South Carolina; December 20, 1860; Ordinance o...</td>\n",
       "      <td>14 Chapter</td>\n",
       "    </tr>\n",
       "    <tr>\n",
       "      <th>2</th>\n",
       "      <td>1263168992390</td>\n",
       "      <td>What six states seceded after the first?</td>\n",
       "      <td>Texas, Mississippi, Florida, Alabama, Georgia,...</td>\n",
       "      <td>14 Chapter</td>\n",
       "    </tr>\n",
       "    <tr>\n",
       "      <th>3</th>\n",
       "      <td>1263169076203</td>\n",
       "      <td>When did the Civil War begin and where?</td>\n",
       "      <td>Fort Sumter, off the coast of South Carolina; ...</td>\n",
       "      <td>14 Chapter</td>\n",
       "    </tr>\n",
       "    <tr>\n",
       "      <th>4</th>\n",
       "      <td>1263169164812</td>\n",
       "      <td>What was the result of Fort Sumter?</td>\n",
       "      <td>Four other states seceded: Tennessee, Arkansas...</td>\n",
       "      <td>14 Chapter</td>\n",
       "    </tr>\n",
       "  </tbody>\n",
       "</table>\n",
       "</div>"
      ],
      "text/plain": [
       "         card_id                                            note_id  \\\n",
       "0  1263168851796                How did Lincoln handle Fort Sumter?   \n",
       "1  1263168959703  Who was the first state to secede and when?&nb...   \n",
       "2  1263168992390           What six states seceded after the first?   \n",
       "3  1263169076203            When did the Civil War begin and where?   \n",
       "4  1263169164812                What was the result of Fort Sumter?   \n",
       "\n",
       "                                           deck_name template_order  \n",
       "0  He didn't send troops, he made the South decid...    14 Chapter   \n",
       "1  South Carolina; December 20, 1860; Ordinance o...    14 Chapter   \n",
       "2  Texas, Mississippi, Florida, Alabama, Georgia,...    14 Chapter   \n",
       "3  Fort Sumter, off the coast of South Carolina; ...    14 Chapter   \n",
       "4  Four other states seceded: Tennessee, Arkansas...    14 Chapter   "
      ]
     },
     "execution_count": 5,
     "metadata": {},
     "output_type": "execute_result"
    }
   ],
   "source": [
    "us_history.head()"
   ]
  },
  {
   "cell_type": "code",
   "execution_count": 7,
   "metadata": {},
   "outputs": [
    {
     "data": {
      "text/html": [
       "<div>\n",
       "<style scoped>\n",
       "    .dataframe tbody tr th:only-of-type {\n",
       "        vertical-align: middle;\n",
       "    }\n",
       "\n",
       "    .dataframe tbody tr th {\n",
       "        vertical-align: top;\n",
       "    }\n",
       "\n",
       "    .dataframe thead th {\n",
       "        text-align: right;\n",
       "    }\n",
       "</style>\n",
       "<table border=\"1\" class=\"dataframe\">\n",
       "  <thead>\n",
       "    <tr style=\"text-align: right;\">\n",
       "      <th></th>\n",
       "      <th>card_id</th>\n",
       "      <th>note_id</th>\n",
       "      <th>deck_name</th>\n",
       "      <th>template_order</th>\n",
       "    </tr>\n",
       "  </thead>\n",
       "  <tbody>\n",
       "    <tr>\n",
       "      <th>0</th>\n",
       "      <td>1554790859427</td>\n",
       "      <td>&lt;div&gt;&amp;nbsp;When was Julius Caesar killed?&lt;/div&gt;</td>\n",
       "      <td>15th of March, 44 BC</td>\n",
       "      <td>NaN</td>\n",
       "    </tr>\n",
       "    <tr>\n",
       "      <th>1</th>\n",
       "      <td>1554790889572</td>\n",
       "      <td>When did Octavian/Augustus rule the Roman Empi...</td>\n",
       "      <td>From 27BC until his death in AD 14</td>\n",
       "      <td>NaN</td>\n",
       "    </tr>\n",
       "    <tr>\n",
       "      <th>2</th>\n",
       "      <td>1554790917333</td>\n",
       "      <td>What does Pax Romana mean, and what period of ...</td>\n",
       "      <td>\"Peace in Rome\" and it lasted from Augustus in...</td>\n",
       "      <td>NaN</td>\n",
       "    </tr>\n",
       "    <tr>\n",
       "      <th>3</th>\n",
       "      <td>1554790969310</td>\n",
       "      <td>In what century were the Gospels in the New Te...</td>\n",
       "      <td>1st century&amp;nbsp;</td>\n",
       "      <td>NaN</td>\n",
       "    </tr>\n",
       "    <tr>\n",
       "      <th>4</th>\n",
       "      <td>1554790996997</td>\n",
       "      <td>When did Emperor Nero's persecution of the Chr...</td>\n",
       "      <td>64-68 AD</td>\n",
       "      <td>NaN</td>\n",
       "    </tr>\n",
       "  </tbody>\n",
       "</table>\n",
       "</div>"
      ],
      "text/plain": [
       "         card_id                                            note_id  \\\n",
       "0  1554790859427    <div>&nbsp;When was Julius Caesar killed?</div>   \n",
       "1  1554790889572  When did Octavian/Augustus rule the Roman Empi...   \n",
       "2  1554790917333  What does Pax Romana mean, and what period of ...   \n",
       "3  1554790969310  In what century were the Gospels in the New Te...   \n",
       "4  1554790996997  When did Emperor Nero's persecution of the Chr...   \n",
       "\n",
       "                                           deck_name  template_order  \n",
       "0                               15th of March, 44 BC             NaN  \n",
       "1                 From 27BC until his death in AD 14             NaN  \n",
       "2  \"Peace in Rome\" and it lasted from Augustus in...             NaN  \n",
       "3                                  1st century&nbsp;             NaN  \n",
       "4                                           64-68 AD             NaN  "
      ]
     },
     "execution_count": 7,
     "metadata": {},
     "output_type": "execute_result"
    }
   ],
   "source": [
    "christianity.head()"
   ]
  },
  {
   "cell_type": "code",
   "execution_count": 8,
   "metadata": {},
   "outputs": [
    {
     "data": {
      "text/plain": [
       "(1293, 4)"
      ]
     },
     "execution_count": 8,
     "metadata": {},
     "output_type": "execute_result"
    }
   ],
   "source": [
    "us_history.shape"
   ]
  },
  {
   "cell_type": "code",
   "execution_count": 9,
   "metadata": {},
   "outputs": [
    {
     "data": {
      "text/plain": [
       "(59, 4)"
      ]
     },
     "execution_count": 9,
     "metadata": {},
     "output_type": "execute_result"
    }
   ],
   "source": [
    "christianity.shape"
   ]
  },
  {
   "cell_type": "code",
   "execution_count": 15,
   "metadata": {},
   "outputs": [
    {
     "name": "stdout",
     "output_type": "stream",
     "text": [
      "15th of March, 44 BC\n",
      "From 27BC until his death in AD 14\n",
      "\"Peace in Rome\" and it lasted from Augustus in 27BC to Marcus Aurelius in 180 AD. It refers to a period of relative stability and peace in the empire.\n",
      "1st century&nbsp;\n",
      "64-68 AD\n",
      "250, under emperor Decius&nbsp;\n",
      "303, under emperor Diocletian\n",
      "Unwilling to participate in emperor worship, \"Jesus is lord\" vs \"Caesar is lord\", increasing distrust due to Christians pulling away from the public eye, \"agape\" as a sex cult, eucharist as cannibalism, ie. rumors\n",
      "313 with the Edict of Milan allowing for religious tolerance. \"Freedom of religion\"\n",
      "Constantine I / Constatine the Great\n",
      "Armenia around 301.&nbsp;\n",
      "Kingdom of Oshroene and Ethiopia.&nbsp;\n",
      "380 AD\n",
      "Anthony the Great&nbsp;\n",
      "4th century\n",
      "Two theological positions in dispute over the relationship between God the Father and God the Son. Homousian's position believed that the Son were of the same substance as the Father, while Arius believed that the Son was created similar but not the same as the Father.&nbsp;\n",
      "354-430\n",
      "Council of Nicea (325), Council of Constantinople (381), Council of Ephesus (431), Council of Chalcedon (451).&nbsp;\n",
      "529.&nbsp;\n",
      "Arianism\n",
      "Clovis I of the Franks.&nbsp;\n",
      "Syrian/Syriac Orthodox/Jacobite, Armenian, Coptic, Ethiopian, Church of the East/Nestorian,&nbsp;\n",
      "440 - 461\n",
      "Peter was the leader of the apostles, apostolic succession means his leadership goes to the pope. Pope holds the highest authority over the entire church.&nbsp;\n",
      "590-604\n",
      "635\n",
      "Kerala, India\n",
      "7th\n",
      "Christmas day, 800.\n",
      "Destroyer of images\n",
      "\"shouldn't worship graven images\", fear of venerating the image over the depicted Saints or God. \"The Bible is material\"\n",
      "Eastern\n",
      "1054\n",
      "1095\n",
      "Middle east, particularly Jerusalem.&nbsp;\n",
      "1187\n",
      "Constantinople\n",
      "1181/82 - 1226\n",
      "1225 - 1274.&nbsp;\n",
      "Avignon&nbsp;\n",
      "John Wyclif and Jan Hus. Wyclif was allowed to live, protected by the English parliament.&nbsp;\n",
      "1453\n",
      "Reconquista and the discovery of the New World.&nbsp;\n",
      "1483 - 1546\n",
      "Luther nails his 95-theses to the door of a church.&nbsp;\n",
      "1530.&nbsp;\n",
      "Rebaptizer&nbsp;\n",
      "Conrad Grebel and Felix Manz\n",
      "John Calvin.&nbsp;\n",
      "the pope in&nbsp;<b>Rome</b>&nbsp;would not grant him a divorce with his wife, Catherine of Aragon, because divorce was against church policy. 1534.&nbsp;\n",
      "1545 - 1563\n",
      "Lutheran, Reformed, Anabaptist, Anglican and the Catholic counter-reformation.\n",
      "1534, Jesuit Order and Ignatius Loyola.&nbsp;\n",
      "Catholicism&nbsp;\n",
      "Francis Xavier, catholicism&nbsp;\n",
      "Phillip Spener, August Francke and Nikolaus Zinzendorf&nbsp;\n",
      "John Wesley, 1703 - 1791\n",
      "Slavery\n",
      "1761 - 1834 - \"father of modern missions\"\n"
     ]
    }
   ],
   "source": [
    "for row in christianity.iterrows():\n",
    "    print(row[1][\"deck_name\"])"
   ]
  },
  {
   "cell_type": "code",
   "execution_count": null,
   "metadata": {},
   "outputs": [],
   "source": []
  }
 ],
 "metadata": {
  "kernelspec": {
   "display_name": "global",
   "language": "python",
   "name": "global"
  },
  "language_info": {
   "codemirror_mode": {
    "name": "ipython",
    "version": 3
   },
   "file_extension": ".py",
   "mimetype": "text/x-python",
   "name": "python",
   "nbconvert_exporter": "python",
   "pygments_lexer": "ipython3",
   "version": "3.7.3"
  }
 },
 "nbformat": 4,
 "nbformat_minor": 2
}
